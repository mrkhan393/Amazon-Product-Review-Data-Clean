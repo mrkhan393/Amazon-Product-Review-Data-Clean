{
 "cells": [
  {
   "cell_type": "code",
   "execution_count": 16,
   "id": "cd6d5d33-4c6c-4dcc-8dd2-dd5794343b9a",
   "metadata": {},
   "outputs": [],
   "source": [
    "import pandas as pd\n",
    "import numpy as np\n",
    "import matplotlib.pyplot as plt\n",
    "import seaborn as sns"
   ]
  },
  {
   "cell_type": "markdown",
   "id": "e64650bb-2f2c-45bc-bc4e-6f580a4613ec",
   "metadata": {
    "jp-MarkdownHeadingCollapsed": true
   },
   "source": [
    "# Read Data and Check Null"
   ]
  },
  {
   "cell_type": "code",
   "execution_count": 17,
   "id": "cf3ad40c-fb0a-4b15-ace3-943e6e4017fe",
   "metadata": {},
   "outputs": [
    {
     "name": "stdout",
     "output_type": "stream",
     "text": [
      "(10678, 12)\n"
     ]
    },
    {
     "data": {
      "text/html": [
       "<div>\n",
       "<style scoped>\n",
       "    .dataframe tbody tr th:only-of-type {\n",
       "        vertical-align: middle;\n",
       "    }\n",
       "\n",
       "    .dataframe tbody tr th {\n",
       "        vertical-align: top;\n",
       "    }\n",
       "\n",
       "    .dataframe thead th {\n",
       "        text-align: right;\n",
       "    }\n",
       "</style>\n",
       "<table border=\"1\" class=\"dataframe\">\n",
       "  <thead>\n",
       "    <tr style=\"text-align: right;\">\n",
       "      <th></th>\n",
       "      <th>product_id</th>\n",
       "      <th>product_name</th>\n",
       "      <th>category</th>\n",
       "      <th>rating</th>\n",
       "      <th>rating_count</th>\n",
       "      <th>discounted_price (₹)</th>\n",
       "      <th>actual_price (₹)</th>\n",
       "      <th>discount_percentage (%)</th>\n",
       "      <th>user_id</th>\n",
       "      <th>user_name</th>\n",
       "      <th>review_id</th>\n",
       "      <th>review_title</th>\n",
       "    </tr>\n",
       "  </thead>\n",
       "  <tbody>\n",
       "    <tr>\n",
       "      <th>0</th>\n",
       "      <td>B07JW9H4J1</td>\n",
       "      <td>Wayona Nylon Braided USB to Lightning Fast Cha...</td>\n",
       "      <td>Computers&amp;Accessories|Accessories&amp;Peripherals|...</td>\n",
       "      <td>4.2</td>\n",
       "      <td>24269</td>\n",
       "      <td>399.0</td>\n",
       "      <td>1099.0</td>\n",
       "      <td>64</td>\n",
       "      <td>AG3D6O4STAQKAY2UVGEUV46KN35Q</td>\n",
       "      <td>Manav</td>\n",
       "      <td>R3HXWT0LRP0NMF</td>\n",
       "      <td>Satisfied</td>\n",
       "    </tr>\n",
       "    <tr>\n",
       "      <th>1</th>\n",
       "      <td>B07JW9H4J1</td>\n",
       "      <td>Wayona Nylon Braided USB to Lightning Fast Cha...</td>\n",
       "      <td>Computers&amp;Accessories|Accessories&amp;Peripherals|...</td>\n",
       "      <td>4.2</td>\n",
       "      <td>24269</td>\n",
       "      <td>399.0</td>\n",
       "      <td>1099.0</td>\n",
       "      <td>64</td>\n",
       "      <td>AHMY5CWJMMK5BJRBBSNLYT3ONILA</td>\n",
       "      <td>Adarsh gupta</td>\n",
       "      <td>R2AJM3LFTLZHFO</td>\n",
       "      <td>Charging is really fast</td>\n",
       "    </tr>\n",
       "    <tr>\n",
       "      <th>2</th>\n",
       "      <td>B07JW9H4J1</td>\n",
       "      <td>Wayona Nylon Braided USB to Lightning Fast Cha...</td>\n",
       "      <td>Computers&amp;Accessories|Accessories&amp;Peripherals|...</td>\n",
       "      <td>4.2</td>\n",
       "      <td>24269</td>\n",
       "      <td>399.0</td>\n",
       "      <td>1099.0</td>\n",
       "      <td>64</td>\n",
       "      <td>AHCTC6ULH4XB6YHDY6PCH2R772LQ</td>\n",
       "      <td>Sundeep</td>\n",
       "      <td>R6AQJGUP6P86</td>\n",
       "      <td>Value for money</td>\n",
       "    </tr>\n",
       "  </tbody>\n",
       "</table>\n",
       "</div>"
      ],
      "text/plain": [
       "   product_id                                       product_name  \\\n",
       "0  B07JW9H4J1  Wayona Nylon Braided USB to Lightning Fast Cha...   \n",
       "1  B07JW9H4J1  Wayona Nylon Braided USB to Lightning Fast Cha...   \n",
       "2  B07JW9H4J1  Wayona Nylon Braided USB to Lightning Fast Cha...   \n",
       "\n",
       "                                            category  rating  rating_count  \\\n",
       "0  Computers&Accessories|Accessories&Peripherals|...     4.2         24269   \n",
       "1  Computers&Accessories|Accessories&Peripherals|...     4.2         24269   \n",
       "2  Computers&Accessories|Accessories&Peripherals|...     4.2         24269   \n",
       "\n",
       "   discounted_price (₹)  actual_price (₹)  discount_percentage (%)  \\\n",
       "0                 399.0            1099.0                       64   \n",
       "1                 399.0            1099.0                       64   \n",
       "2                 399.0            1099.0                       64   \n",
       "\n",
       "                        user_id     user_name       review_id  \\\n",
       "0  AG3D6O4STAQKAY2UVGEUV46KN35Q         Manav  R3HXWT0LRP0NMF   \n",
       "1  AHMY5CWJMMK5BJRBBSNLYT3ONILA  Adarsh gupta  R2AJM3LFTLZHFO   \n",
       "2  AHCTC6ULH4XB6YHDY6PCH2R772LQ       Sundeep    R6AQJGUP6P86   \n",
       "\n",
       "              review_title  \n",
       "0                Satisfied  \n",
       "1  Charging is really fast  \n",
       "2          Value for money  "
      ]
     },
     "execution_count": 17,
     "metadata": {},
     "output_type": "execute_result"
    }
   ],
   "source": [
    "df = pd.read_csv(\"amazon_cleaned.csv\")\n",
    "print(df.shape)\n",
    "df.head(3)"
   ]
  },
  {
   "cell_type": "code",
   "execution_count": 18,
   "id": "b0dd6f2e-2d3f-438e-86bc-59690f5a33f1",
   "metadata": {},
   "outputs": [
    {
     "data": {
      "text/plain": [
       "product_id                  0\n",
       "product_name                0\n",
       "category                    0\n",
       "rating                      0\n",
       "rating_count                0\n",
       "discounted_price (₹)        0\n",
       "actual_price (₹)            0\n",
       "discount_percentage (%)     0\n",
       "user_id                     0\n",
       "user_name                   1\n",
       "review_id                   0\n",
       "review_title               12\n",
       "dtype: int64"
      ]
     },
     "execution_count": 18,
     "metadata": {},
     "output_type": "execute_result"
    }
   ],
   "source": [
    "df.isnull().sum()"
   ]
  },
  {
   "cell_type": "code",
   "execution_count": 19,
   "id": "4402399d-e53f-48b7-b0cf-c93f1dc9d667",
   "metadata": {},
   "outputs": [
    {
     "name": "stdout",
     "output_type": "stream",
     "text": [
      "<class 'pandas.core.frame.DataFrame'>\n",
      "RangeIndex: 10678 entries, 0 to 10677\n",
      "Data columns (total 12 columns):\n",
      " #   Column                   Non-Null Count  Dtype  \n",
      "---  ------                   --------------  -----  \n",
      " 0   product_id               10678 non-null  object \n",
      " 1   product_name             10678 non-null  object \n",
      " 2   category                 10678 non-null  object \n",
      " 3   rating                   10678 non-null  float64\n",
      " 4   rating_count             10678 non-null  int64  \n",
      " 5   discounted_price (₹)     10678 non-null  float64\n",
      " 6   actual_price (₹)         10678 non-null  float64\n",
      " 7   discount_percentage (%)  10678 non-null  int64  \n",
      " 8   user_id                  10678 non-null  object \n",
      " 9   user_name                10677 non-null  object \n",
      " 10  review_id                10678 non-null  object \n",
      " 11  review_title             10666 non-null  object \n",
      "dtypes: float64(3), int64(2), object(7)\n",
      "memory usage: 1001.2+ KB\n"
     ]
    }
   ],
   "source": [
    "df.info()"
   ]
  },
  {
   "cell_type": "markdown",
   "id": "83c45528-8d32-4cd5-b7b5-7a1ad5a5050f",
   "metadata": {
    "jp-MarkdownHeadingCollapsed": true
   },
   "source": [
    "# Check Column Data Type"
   ]
  },
  {
   "cell_type": "code",
   "execution_count": 47,
   "id": "00fbc256-35d7-4b4d-837b-65e7e7166038",
   "metadata": {
    "scrolled": true
   },
   "outputs": [
    {
     "name": "stdout",
     "output_type": "stream",
     "text": [
      "Columns containing string values:\n",
      "product_id                  True\n",
      "product_name                True\n",
      "category                    True\n",
      "rating                     False\n",
      "rating_count               False\n",
      "discounted_price (₹)       False\n",
      "actual_price (₹)           False\n",
      "discount_percentage (%)    False\n",
      "user_id                     True\n",
      "user_name                   True\n",
      "review_id                   True\n",
      "review_title                True\n",
      "dtype: bool\n",
      "Columns containing integer values:\n",
      "product_id                 False\n",
      "product_name               False\n",
      "category                   False\n",
      "rating                     False\n",
      "rating_count                True\n",
      "discounted_price (₹)       False\n",
      "actual_price (₹)           False\n",
      "discount_percentage (%)    False\n",
      "user_id                    False\n",
      "user_name                  False\n",
      "review_id                  False\n",
      "review_title               False\n",
      "dtype: bool\n",
      "Columns containing float values:\n",
      "product_id                 False\n",
      "product_name               False\n",
      "category                   False\n",
      "rating                      True\n",
      "rating_count               False\n",
      "discounted_price (₹)        True\n",
      "actual_price (₹)            True\n",
      "discount_percentage (%)     True\n",
      "user_id                    False\n",
      "user_name                   True\n",
      "review_id                  False\n",
      "review_title                True\n",
      "dtype: bool\n"
     ]
    },
    {
     "name": "stderr",
     "output_type": "stream",
     "text": [
      "C:\\Users\\khand\\AppData\\Local\\Temp\\ipykernel_18360\\805857498.py:2: FutureWarning: DataFrame.applymap has been deprecated. Use DataFrame.map instead.\n",
      "  contains_string = df.applymap(lambda x: isinstance(x, str)).any()\n",
      "C:\\Users\\khand\\AppData\\Local\\Temp\\ipykernel_18360\\805857498.py:7: FutureWarning: DataFrame.applymap has been deprecated. Use DataFrame.map instead.\n",
      "  contains_int = df.applymap(lambda x: isinstance(x, int)).any()\n",
      "C:\\Users\\khand\\AppData\\Local\\Temp\\ipykernel_18360\\805857498.py:12: FutureWarning: DataFrame.applymap has been deprecated. Use DataFrame.map instead.\n",
      "  contains_float = df.applymap(lambda x: isinstance(x, float)).any()\n"
     ]
    }
   ],
   "source": [
    "# Check for string values in columns\n",
    "contains_string = df.applymap(lambda x: isinstance(x, str)).any()\n",
    "print(\"Columns containing string values:\")\n",
    "print(contains_string)\n",
    "\n",
    "# Check for integer values in columns\n",
    "contains_int = df.applymap(lambda x: isinstance(x, int)).any()\n",
    "print(\"Columns containing integer values:\")\n",
    "print(contains_int)\n",
    "\n",
    "# Check for float values in columns\n",
    "contains_float = df.applymap(lambda x: isinstance(x, float)).any()\n",
    "print(\"Columns containing float values:\")\n",
    "print(contains_float)"
   ]
  },
  {
   "cell_type": "markdown",
   "id": "bfe97794-c4a0-4496-ab7e-80bedce61dd0",
   "metadata": {
    "jp-MarkdownHeadingCollapsed": true
   },
   "source": [
    "# Check Null Index"
   ]
  },
  {
   "cell_type": "code",
   "execution_count": 42,
   "id": "e027408d-0838-4f0a-ad7c-740a61b7c646",
   "metadata": {},
   "outputs": [
    {
     "name": "stdout",
     "output_type": "stream",
     "text": [
      "Indices with null values in 'user_name': [7771]\n",
      "Indices with null values in 'review_title': [125, 267, 2581, 2584, 2586, 5261, 5526, 6593, 6846, 8351, 8630, 8957]\n"
     ]
    }
   ],
   "source": [
    "# For the 'user_name' column\n",
    "null_user_name_indices = df[df['user_name'].isnull()].index\n",
    "print(\"Indices with null values in 'user_name':\", null_user_name_indices.tolist())\n",
    "\n",
    "# For the 'review_title' column\n",
    "null_review_title_indices = df[df['review_title'].isnull()].index\n",
    "print(\"Indices with null values in 'review_title':\", null_review_title_indices.tolist())"
   ]
  },
  {
   "cell_type": "code",
   "execution_count": 44,
   "id": "b91947c6-5b95-4eb6-91fd-0445cd0bd554",
   "metadata": {
    "scrolled": true
   },
   "outputs": [
    {
     "name": "stdout",
     "output_type": "stream",
     "text": [
      "Rows with null values in 'review_title':\n",
      "      product_id                                       product_name  \\\n",
      "125   B083342NKJ  MI Braided USB Type-C Cable for Charging Adapt...   \n",
      "267   B008FWZGSG  Samsung Original Type C to C Cable - 3.28 Feet...   \n",
      "2581  B08PKBMJKS               Airtel DigitalTV HD Setup Box Remote   \n",
      "2584  B0B8VQ7KDS  Airtel Digital TV HD Set Top Box with FTA Pack...   \n",
      "2586  B0B8VQ7KDS  Airtel Digital TV HD Set Top Box with FTA Pack...   \n",
      "5261  B07B88KQZ8  JBL Go 2, Wireless Portable Bluetooth Speaker ...   \n",
      "5526  B08YD264ZS  Tarkan Portable Folding Laptop Desk for Bed, L...   \n",
      "6593  B08J82K4GX  Samsung 24-inch(60.46cm) FHD Monitor, IPS, 75 ...   \n",
      "6846  B07RZZ1QSW  SLOVIC® Tripod Mount Adapter| Tripod Mobile Ho...   \n",
      "8351  B00NM6MO26  Prestige PIC 16.0+ 1900W Induction Cooktop wit...   \n",
      "8630  B09MT94QLL  Havells Glaze 74W Pearl Ivory Gold Ceiling Fan...   \n",
      "8957  B071113J7M  Sujata Powermatic Plus 900 Watts Juicer Mixer ...   \n",
      "\n",
      "                                               category  rating  rating_count  \\\n",
      "125   Computers&Accessories|Accessories&Peripherals|...     4.4         18757   \n",
      "267   Computers&Accessories|Accessories&Peripherals|...     4.3           355   \n",
      "2581  Electronics|HomeTheater,TV&Video|Accessories|R...     3.8           136   \n",
      "2584  Electronics|HomeTheater,TV&Video|SatelliteEqui...     4.3           301   \n",
      "2586  Electronics|HomeTheater,TV&Video|SatelliteEqui...     4.3           301   \n",
      "5261   Electronics|HomeAudio|Speakers|BluetoothSpeakers     4.3         63899   \n",
      "5526  Computers&Accessories|Accessories&Peripherals|...     4.3          1690   \n",
      "6593                     Computers&Accessories|Monitors     4.3          2623   \n",
      "6846  Electronics|Cameras&Photography|Accessories|Tr...     4.4         10773   \n",
      "8351  Home&Kitchen|Kitchen&HomeAppliances|SmallKitch...     4.0         15034   \n",
      "8630  Home&Kitchen|Heating,Cooling&AirQuality|Fans|C...     4.2          1353   \n",
      "8957  Home&Kitchen|Kitchen&HomeAppliances|SmallKitch...     4.5          7241   \n",
      "\n",
      "      discounted_price (₹)  actual_price (₹)  discount_percentage (%)  \\\n",
      "125                  349.0             399.0                     13.0   \n",
      "267                  599.0             599.0                      0.0   \n",
      "2581                 197.0             499.0                     61.0   \n",
      "2584                1299.0            2499.0                     48.0   \n",
      "2586                1299.0            2499.0                     48.0   \n",
      "5261                1999.0            2999.0                     33.0   \n",
      "5526                 999.0            2499.0                     60.0   \n",
      "6593               10099.0           19110.0                     47.0   \n",
      "6846                 326.0             799.0                     59.0   \n",
      "8351                2698.0            3945.0                     32.0   \n",
      "8630                1999.0            4775.0                     58.0   \n",
      "8957                5890.0            7506.0                     22.0   \n",
      "\n",
      "                           user_id         user_name       review_id  \\\n",
      "125   AGEOQQHGNELZNEUKJAJUA7NTPBLA            Rakesh  R1115HIQP3BKKJ   \n",
      "267   AEWMPOUFVOFZ3WMJGHLOYQ7VGUJQ  mahaboobali khan  R3EGXE69JQH9AG   \n",
      "2581  AHUQL2OJQVXUN6KU3XE4NNXDYWXQ   Sandeep chauhan  R2T1VOM1S6TMET   \n",
      "2584  AHBSBZBVPHQ3DNFSVUEISWFKZWEQ       Ankit bisen   R4RAOBEKJMT1E   \n",
      "2586  AFCDITQYYSHB5DVHMFMO6M3PV3NA        Rajesh Raj  R3FXVCBQCGNPLW   \n",
      "5261  AEO6PDZZEPLEYE6MLIQMEEOEVJEQ             gopal  R1AHXLKGDRQUYJ   \n",
      "5526  AFMCGE5U34NNKT2AGRY5TPX4OHKQ            Deepti  R2KM3VBJ74IH5I   \n",
      "6593  AFAW4JGIBKTJDQE4EHYSG5PTAOOQ            Sameer   RRDFD5UYQWGA2   \n",
      "6846  AFYSXQBPVL6SBVWFIUWXNK5P2FWQ         A Jackson   R50KZDO2KFBYT   \n",
      "8351  AFFASS4UUKBTHTT4D4HXISPCWD3Q    Nilanjan kumar  R22YPCRTDOIQDE   \n",
      "8630  AFC2EEGVUB34NVHUXNS7YZDA7JDA              deep  R3BKZ1CNXYB14D   \n",
      "8957  AEMIUWQVFEJISDZFQXUQCKHDZMRQ                 A  R29GE7YKSLFUEI   \n",
      "\n",
      "     review_title  \n",
      "125           NaN  \n",
      "267           NaN  \n",
      "2581          NaN  \n",
      "2584          NaN  \n",
      "2586          NaN  \n",
      "5261          NaN  \n",
      "5526          NaN  \n",
      "6593          NaN  \n",
      "6846          NaN  \n",
      "8351          NaN  \n",
      "8630          NaN  \n",
      "8957          NaN  \n"
     ]
    }
   ],
   "source": [
    "# Print rows with null values in 'review_title'\n",
    "print(\"Rows with null values in 'review_title':\")\n",
    "print(df[df['review_title'].isnull()])"
   ]
  },
  {
   "cell_type": "code",
   "execution_count": 45,
   "id": "cab9d91e-4b03-46c3-a292-426c331ff524",
   "metadata": {},
   "outputs": [
    {
     "name": "stdout",
     "output_type": "stream",
     "text": [
      "Rows with null values in 'user_name':\n",
      "      product_id                                      product_name  \\\n",
      "7771  B07MKMFKPG  Bosch Pro 1000W Mixer Grinder MGM8842MIN - Black   \n",
      "\n",
      "                                               category  rating  rating_count  \\\n",
      "7771  Home&Kitchen|Kitchen&HomeAppliances|SmallKitch...     4.4         11499   \n",
      "\n",
      "      discounted_price (₹)  actual_price (₹)  discount_percentage (%)  \\\n",
      "7771                6999.0           10590.0                     34.0   \n",
      "\n",
      "                           user_id user_name       review_id  \\\n",
      "7771  AGOEYCHBYOAN53ZBHUMCS5GUSVTQ       NaN  R3NTM54N8T1YCL   \n",
      "\n",
      "                 review_title  \n",
      "7771  Powerfull mixer grinder  \n"
     ]
    }
   ],
   "source": [
    "# Print rows with null values in 'user_name'\n",
    "print(\"Rows with null values in 'user_name':\")\n",
    "print(df[df['user_name'].isnull()])"
   ]
  },
  {
   "cell_type": "markdown",
   "id": "5ce3dd2f-b7da-477b-afca-603dac31cab9",
   "metadata": {
    "jp-MarkdownHeadingCollapsed": true
   },
   "source": [
    "# Drop Null and Check Index"
   ]
  },
  {
   "cell_type": "code",
   "execution_count": 35,
   "id": "b6fc851f-cd24-4545-8844-5229a2c56280",
   "metadata": {
    "scrolled": true
   },
   "outputs": [],
   "source": [
    "df_cleaned = df.dropna()"
   ]
  },
  {
   "cell_type": "code",
   "execution_count": 36,
   "id": "c2ad505e-becf-48ad-a80d-6efb24088af0",
   "metadata": {},
   "outputs": [
    {
     "data": {
      "text/plain": [
       "product_id                 0\n",
       "product_name               0\n",
       "category                   0\n",
       "rating                     0\n",
       "rating_count               0\n",
       "discounted_price (₹)       0\n",
       "actual_price (₹)           0\n",
       "discount_percentage (%)    0\n",
       "user_id                    0\n",
       "user_name                  0\n",
       "review_id                  0\n",
       "review_title               0\n",
       "dtype: int64"
      ]
     },
     "execution_count": 36,
     "metadata": {},
     "output_type": "execute_result"
    }
   ],
   "source": [
    "df_cleaned.isnull().sum()"
   ]
  },
  {
   "cell_type": "code",
   "execution_count": 37,
   "id": "8ea794ca-b9f3-47b0-94fd-991b89b27fa2",
   "metadata": {},
   "outputs": [
    {
     "name": "stdout",
     "output_type": "stream",
     "text": [
      "Indices with null values in 'user_name': []\n",
      "Indices with null values in 'review_title': []\n"
     ]
    }
   ],
   "source": [
    "# For the 'user_name' column\n",
    "null_user_name_indices = df_cleaned[df_cleaned['user_name'].isnull()].index\n",
    "print(\"Indices with null values in 'user_name':\", null_user_name_indices.tolist())\n",
    "\n",
    "# For the 'review_title' column\n",
    "null_review_title_indices = df_cleaned[df_cleaned['review_title'].isnull()].index\n",
    "print(\"Indices with null values in 'review_title':\", null_review_title_indices.tolist())"
   ]
  },
  {
   "cell_type": "code",
   "execution_count": 38,
   "id": "65dfdefe-f770-444c-8c98-c9fab9606664",
   "metadata": {
    "scrolled": true
   },
   "outputs": [
    {
     "name": "stdout",
     "output_type": "stream",
     "text": [
      "Rows with null values in 'review_title':\n",
      "Empty DataFrame\n",
      "Columns: [product_id, product_name, category, rating, rating_count, discounted_price (₹), actual_price (₹), discount_percentage (%), user_id, user_name, review_id, review_title]\n",
      "Index: []\n"
     ]
    }
   ],
   "source": [
    "# Print rows with null values in 'review_title'\n",
    "print(\"Rows with null values in 'review_title':\")\n",
    "print(df_cleaned[df_cleaned['review_title'].isnull()])"
   ]
  },
  {
   "cell_type": "code",
   "execution_count": 39,
   "id": "c546f8fd-fd00-4fba-a043-5ad319545cc0",
   "metadata": {},
   "outputs": [
    {
     "name": "stdout",
     "output_type": "stream",
     "text": [
      "Rows with null values in 'user_name':\n",
      "Empty DataFrame\n",
      "Columns: [product_id, product_name, category, rating, rating_count, discounted_price (₹), actual_price (₹), discount_percentage (%), user_id, user_name, review_id, review_title]\n",
      "Index: []\n"
     ]
    }
   ],
   "source": [
    "# Print rows with null values in 'user_name'\n",
    "print(\"Rows with null values in 'user_name':\")\n",
    "print(df_cleaned[df_cleaned['user_name'].isnull()])"
   ]
  },
  {
   "cell_type": "markdown",
   "id": "32f39e65-28be-4b73-8aeb-575d3668e191",
   "metadata": {
    "jp-MarkdownHeadingCollapsed": true
   },
   "source": [
    "# Check Column Data Type of Cleaned Data"
   ]
  },
  {
   "cell_type": "code",
   "execution_count": 46,
   "id": "bb327df5-1a74-44dd-9608-f24bc4171b06",
   "metadata": {
    "scrolled": true
   },
   "outputs": [
    {
     "name": "stdout",
     "output_type": "stream",
     "text": [
      "Columns containing string values:\n",
      "product_id                  True\n",
      "product_name                True\n",
      "category                    True\n",
      "rating                     False\n",
      "rating_count               False\n",
      "discounted_price (₹)       False\n",
      "actual_price (₹)           False\n",
      "discount_percentage (%)    False\n",
      "user_id                     True\n",
      "user_name                   True\n",
      "review_id                   True\n",
      "review_title                True\n",
      "dtype: bool\n",
      "Columns containing integer values:\n",
      "product_id                 False\n",
      "product_name               False\n",
      "category                   False\n",
      "rating                     False\n",
      "rating_count                True\n",
      "discounted_price (₹)       False\n",
      "actual_price (₹)           False\n",
      "discount_percentage (%)    False\n",
      "user_id                    False\n",
      "user_name                  False\n",
      "review_id                  False\n",
      "review_title               False\n",
      "dtype: bool\n",
      "Columns containing float values:\n",
      "product_id                 False\n",
      "product_name               False\n",
      "category                   False\n",
      "rating                      True\n",
      "rating_count               False\n",
      "discounted_price (₹)        True\n",
      "actual_price (₹)            True\n",
      "discount_percentage (%)     True\n",
      "user_id                    False\n",
      "user_name                  False\n",
      "review_id                  False\n",
      "review_title               False\n",
      "dtype: bool\n"
     ]
    },
    {
     "name": "stderr",
     "output_type": "stream",
     "text": [
      "C:\\Users\\khand\\AppData\\Local\\Temp\\ipykernel_18360\\76029757.py:2: FutureWarning: DataFrame.applymap has been deprecated. Use DataFrame.map instead.\n",
      "  contains_string = df_cleaned.applymap(lambda x: isinstance(x, str)).any()\n",
      "C:\\Users\\khand\\AppData\\Local\\Temp\\ipykernel_18360\\76029757.py:7: FutureWarning: DataFrame.applymap has been deprecated. Use DataFrame.map instead.\n",
      "  contains_int = df_cleaned.applymap(lambda x: isinstance(x, int)).any()\n",
      "C:\\Users\\khand\\AppData\\Local\\Temp\\ipykernel_18360\\76029757.py:12: FutureWarning: DataFrame.applymap has been deprecated. Use DataFrame.map instead.\n",
      "  contains_float = df_cleaned.applymap(lambda x: isinstance(x, float)).any()\n"
     ]
    }
   ],
   "source": [
    "# Check for string values in columns\n",
    "contains_string = df_cleaned.applymap(lambda x: isinstance(x, str)).any()\n",
    "print(\"Columns containing string values:\")\n",
    "print(contains_string)\n",
    "\n",
    "# Check for integer values in columns\n",
    "contains_int = df_cleaned.applymap(lambda x: isinstance(x, int)).any()\n",
    "print(\"Columns containing integer values:\")\n",
    "print(contains_int)\n",
    "\n",
    "# Check for float values in columns\n",
    "contains_float = df_cleaned.applymap(lambda x: isinstance(x, float)).any()\n",
    "print(\"Columns containing float values:\")\n",
    "print(contains_float)"
   ]
  },
  {
   "cell_type": "markdown",
   "id": "43947cfe-e97a-4a90-8386-375fb83bb76e",
   "metadata": {
    "jp-MarkdownHeadingCollapsed": true
   },
   "source": [
    "# Save Data"
   ]
  },
  {
   "cell_type": "code",
   "execution_count": 41,
   "id": "65786414-5306-40b0-9437-b3ed480e14fc",
   "metadata": {},
   "outputs": [],
   "source": [
    "df_cleaned.to_csv(\"amazon_cleaned_v2.csv\", index=False)"
   ]
  },
  {
   "cell_type": "code",
   "execution_count": null,
   "id": "2a794fb0-e29c-4d0b-afe3-c1fc42b1cfde",
   "metadata": {},
   "outputs": [],
   "source": []
  }
 ],
 "metadata": {
  "kernelspec": {
   "display_name": "Python 3 (ipykernel)",
   "language": "python",
   "name": "python3"
  },
  "language_info": {
   "codemirror_mode": {
    "name": "ipython",
    "version": 3
   },
   "file_extension": ".py",
   "mimetype": "text/x-python",
   "name": "python",
   "nbconvert_exporter": "python",
   "pygments_lexer": "ipython3",
   "version": "3.9.19"
  }
 },
 "nbformat": 4,
 "nbformat_minor": 5
}
